{
 "cells": [
  {
   "cell_type": "markdown",
   "metadata": {},
   "source": [
    "Python need a MySQL driver to access the MySQL Database."
   ]
  },
  {
   "cell_type": "code",
   "execution_count": 28,
   "metadata": {},
   "outputs": [
    {
     "name": "stdout",
     "output_type": "stream",
     "text": [
      "Requirement already satisfied: mysql-connector-python in c:\\users\\lenovo\\appdata\\local\\programs\\python\\python311\\lib\\site-packages (8.3.0)\n"
     ]
    },
    {
     "name": "stderr",
     "output_type": "stream",
     "text": [
      "\n",
      "[notice] A new release of pip is available: 23.1.2 -> 24.0\n",
      "[notice] To update, run: python.exe -m pip install --upgrade pip\n"
     ]
    }
   ],
   "source": [
    "!pip install mysql-connector-python"
   ]
  },
  {
   "cell_type": "markdown",
   "metadata": {},
   "source": [
    "Import and connect MySQL server database into python."
   ]
  },
  {
   "cell_type": "code",
   "execution_count": 1,
   "metadata": {},
   "outputs": [
    {
     "name": "stdout",
     "output_type": "stream",
     "text": [
      "<mysql.connector.connection_cext.CMySQLConnection object at 0x0000021EC4050C10>\n"
     ]
    }
   ],
   "source": [
    "import mysql.connector\n",
    "\n",
    "\n",
    "db = mysql.connector.connect(\n",
    "    host=\"localhost\",\n",
    "    user=\"root\",\n",
    "    passwd=\"Bijionta7\"\n",
    ")\n",
    "\n",
    "print(db)"
   ]
  },
  {
   "cell_type": "markdown",
   "metadata": {},
   "source": [
    "Import Database name from SQL server."
   ]
  },
  {
   "cell_type": "code",
   "execution_count": 11,
   "metadata": {},
   "outputs": [],
   "source": [
    "import mysql.connector\n",
    "\n",
    "\n",
    "db = mysql.connector.connect(\n",
    "    host=\"localhost\",\n",
    "    user=\"root\",\n",
    "    passwd=\"Bijionta7\",\n",
    "    database=\"belajarquery\"\n",
    ")\n"
   ]
  },
  {
   "cell_type": "markdown",
   "metadata": {},
   "source": [
    "For using sql statement execution in python must use the cursor().execute or executemany for many values."
   ]
  },
  {
   "cell_type": "markdown",
   "metadata": {},
   "source": [
    "Use the \"create table\" query to create a table in the database."
   ]
  },
  {
   "cell_type": "code",
   "execution_count": 12,
   "metadata": {},
   "outputs": [],
   "source": [
    "mycursor=db.cursor()\n",
    "\n",
    "sql = \"\"\"CREATE TABLE pelanggan (\n",
    "    customer_id INT AUTO_INCREMENT PRIMARY KEY,\n",
    "    name VARCHAR(255),\n",
    "    address Varchar(255)\n",
    "    )\n",
    "    \"\"\"\n",
    "mycursor.execute(sql)"
   ]
  },
  {
   "cell_type": "markdown",
   "metadata": {},
   "source": [
    "Check if the table we created has been entered into the database."
   ]
  },
  {
   "cell_type": "code",
   "execution_count": 27,
   "metadata": {},
   "outputs": [
    {
     "name": "stdout",
     "output_type": "stream",
     "text": [
      "CMySQLCursor: SHOW TABLES\n",
      "('categories',)\n",
      "('customers',)\n",
      "('pelanggan',)\n",
      "('pikles',)\n",
      "('pikles_family',)\n",
      "('products',)\n",
      "('profil',)\n",
      "('setup_order',)\n",
      "('student_table',)\n",
      "('students',)\n",
      "('teachers',)\n"
     ]
    }
   ],
   "source": [
    "import mysql.connector\n",
    "\n",
    "\n",
    "db = mysql.connector.connect(\n",
    "    host=\"localhost\",\n",
    "    user=\"root\",\n",
    "    passwd=\"Bijionta7\",\n",
    "    database=\"belajarquery\"\n",
    ")\n",
    "\n",
    "mycursor=db.cursor()\n",
    "mycursor.execute(\"SHOW TABLES\")\n",
    "\n",
    "print(mycursor)\n",
    "\n",
    "for x in mycursor:\n",
    "    print(x)"
   ]
  },
  {
   "cell_type": "markdown",
   "metadata": {},
   "source": [
    "Add a hobby column to the pelanggan table."
   ]
  },
  {
   "cell_type": "code",
   "execution_count": null,
   "metadata": {},
   "outputs": [],
   "source": [
    "mycursor.execute(\"ALTER TABLE pelanggan ADD COLUMN hobby VARCHAR(255)\")"
   ]
  },
  {
   "cell_type": "markdown",
   "metadata": {},
   "source": [
    "Insert the value in the table according to the column in the customer table."
   ]
  },
  {
   "cell_type": "code",
   "execution_count": 28,
   "metadata": {},
   "outputs": [
    {
     "name": "stdout",
     "output_type": "stream",
     "text": [
      "1 Record Inserted.\n"
     ]
    }
   ],
   "source": [
    "sql = \"INSERT INTO pelanggan (name,address,hobby) VALUES(%s,%s,%s)\"\n",
    "value = (\"Udin\",\"Padang\",\"Desain\")\n",
    "mycursor.execute(sql,value)\n",
    "\n",
    "db.commit()\n",
    "\n",
    "print(mycursor.rowcount,\"Record Inserted.\")"
   ]
  },
  {
   "cell_type": "code",
   "execution_count": null,
   "metadata": {},
   "outputs": [],
   "source": [
    "mycursor = db.cursor()\n",
    "sql = \"INSERT INTO pelanggan (name,address,hobby) VALUES(%s,%s,%s)\"\n",
    "value = [\n",
    "    (\"Umar\",\"Jakarta\",\"Coding\"),\n",
    "    (\"Ujang\",\"Solok\",\"Masak\"),\n",
    "    (\"Uniang\",\"Surian\",\"Menjahit\"),\n",
    "    (\"Unto\",\"Arab\",\"Makan\")\n",
    "]\n",
    "mycursor.executemany(sql,value)\n",
    "\n",
    "db.commit()\n",
    "\n",
    "print(mycursor.rowcount,\"Record Inserted\")"
   ]
  },
  {
   "cell_type": "markdown",
   "metadata": {},
   "source": [
    "Print all table outputs and values from the customer table (fetchall)."
   ]
  },
  {
   "cell_type": "code",
   "execution_count": 17,
   "metadata": {},
   "outputs": [
    {
     "name": "stdout",
     "output_type": "stream",
     "text": [
      "(1, 'Udin', 'Padang', 'Desain')\n",
      "(2, 'Umar', 'Jakarta', 'Coding')\n",
      "(3, 'Ujang', 'Solok', 'Masak')\n",
      "(4, 'Uniang', 'Surian', 'Menjahit')\n",
      "(5, 'Unto', 'Arab', 'Makan')\n"
     ]
    }
   ],
   "source": [
    "import mysql.connector\n",
    "\n",
    "\n",
    "db = mysql.connector.connect(\n",
    "    host=\"localhost\",\n",
    "    user=\"root\",\n",
    "    passwd=\"Bijionta7\",\n",
    "    database=\"belajarquery\"\n",
    ")\n",
    "\n",
    "mycursor = db.cursor()\n",
    "mycursor.execute(\"SELECT * FROM pelanggan\")\n",
    "myresult = mycursor.fetchall()\n",
    "\n",
    "for x in myresult:\n",
    "    print(x)"
   ]
  },
  {
   "cell_type": "markdown",
   "metadata": {},
   "source": [
    "Print the first row of the table output and its values from the customer table."
   ]
  },
  {
   "cell_type": "code",
   "execution_count": 12,
   "metadata": {},
   "outputs": [
    {
     "name": "stdout",
     "output_type": "stream",
     "text": [
      "(1, 'Udin', 'Padang', 'Desain')\n"
     ]
    }
   ],
   "source": [
    "import mysql.connector\n",
    "\n",
    "\n",
    "db = mysql.connector.connect(\n",
    "    host=\"localhost\",\n",
    "    user=\"root\",\n",
    "    passwd=\"Bijionta7\",\n",
    "    database=\"belajarquery\"\n",
    ")\n",
    "\n",
    "mycursor = db.cursor()\n",
    "mycursor.execute(\"SELECT * FROM pelanggan\")\n",
    "myresult = mycursor.fetchone()\n",
    "\n",
    "print(myresult)"
   ]
  },
  {
   "cell_type": "markdown",
   "metadata": {},
   "source": [
    "Print the output in the table based on the condition (\"WHERE\")."
   ]
  },
  {
   "cell_type": "code",
   "execution_count": 18,
   "metadata": {},
   "outputs": [
    {
     "name": "stdout",
     "output_type": "stream",
     "text": [
      "(1, 'Udin', 'Padang', 'Desain')\n"
     ]
    }
   ],
   "source": [
    "import mysql.connector\n",
    "\n",
    "\n",
    "db = mysql.connector.connect(\n",
    "    host=\"localhost\",\n",
    "    user=\"root\",\n",
    "    passwd=\"Bijionta7\",\n",
    "    database=\"belajarquery\"\n",
    ")\n",
    "\n",
    "mycursor = db.cursor()\n",
    "mycursor.execute(\"SELECT * FROM pelanggan WHERE address = 'Padang'\")\n",
    "myresult = mycursor.fetchall()\n",
    "\n",
    "for x in myresult:\n",
    "    print(x)\n"
   ]
  },
  {
   "cell_type": "markdown",
   "metadata": {},
   "source": [
    "Select the records that starts, includes, or ends with a given letter or phrase (\"wildcard\")."
   ]
  },
  {
   "cell_type": "code",
   "execution_count": 22,
   "metadata": {},
   "outputs": [
    {
     "name": "stdout",
     "output_type": "stream",
     "text": [
      "(4, 'Uniang', 'Surian', 'Menjahit')\n",
      "(5, 'Unto', 'Arab', 'Makan')\n"
     ]
    }
   ],
   "source": [
    "import mysql.connector\n",
    "\n",
    "\n",
    "db = mysql.connector.connect(\n",
    "    host=\"localhost\",\n",
    "    user=\"root\",\n",
    "    passwd=\"Bijionta7\",\n",
    "    database=\"belajarquery\"\n",
    ")\n",
    "\n",
    "mycursor = db.cursor()\n",
    "\n",
    "sql = \"SELECT * FROM pelanggan WHERE name LIKE 'Un%'\"\n",
    "mycursor.execute(sql)\n",
    "myresult = mycursor.fetchall()\n",
    "\n",
    "for x in myresult:\n",
    "  print(x)"
   ]
  },
  {
   "cell_type": "markdown",
   "metadata": {},
   "source": [
    "Use the ORDER BY statement to sort the result in ascending or descending order."
   ]
  },
  {
   "cell_type": "code",
   "execution_count": 24,
   "metadata": {},
   "outputs": [
    {
     "name": "stdout",
     "output_type": "stream",
     "text": [
      "(5, 'Unto', 'Arab', 'Makan')\n",
      "(4, 'Uniang', 'Surian', 'Menjahit')\n",
      "(2, 'Umar', 'Jakarta', 'Coding')\n",
      "(3, 'Ujang', 'Solok', 'Masak')\n",
      "(1, 'Udin', 'Padang', 'Desain')\n"
     ]
    }
   ],
   "source": [
    "import mysql.connector\n",
    "\n",
    "\n",
    "db = mysql.connector.connect(\n",
    "    host=\"localhost\",\n",
    "    user=\"root\",\n",
    "    passwd=\"Bijionta7\",\n",
    "    database=\"belajarquery\"\n",
    ")\n",
    "\n",
    "mycursor = db.cursor()\n",
    "\n",
    "sql = \"SELECT * FROM pelanggan ORDER BY name DESC\"\n",
    "mycursor.execute(sql)\n",
    "myresult = mycursor.fetchall()\n",
    "\n",
    "for x in myresult:\n",
    "  print(x)"
   ]
  },
  {
   "cell_type": "markdown",
   "metadata": {},
   "source": [
    "Delete records from an existing table by using the \"DELETE FROM\" statement. The mysql.connector module uses the placeholder %s to escape values in the delete statement."
   ]
  },
  {
   "cell_type": "code",
   "execution_count": null,
   "metadata": {},
   "outputs": [],
   "source": [
    "import mysql.connector\n",
    "\n",
    "\n",
    "db = mysql.connector.connect(\n",
    "    host=\"localhost\",\n",
    "    user=\"root\",\n",
    "    passwd=\"Bijionta7\",\n",
    "    database=\"belajarquery\"\n",
    ")\n",
    "\n",
    "mycursor = db.cursor()\n",
    "sql = \"DELETE FROM pelanggan WHERE address = %s\"\n",
    "adr = (\"Solok\", )\n",
    "mycursor.execute(sql, adr)\n",
    "\n",
    "mydb.commit()\n",
    "\n",
    "print(mycursor.rowcount, \"record(s) deleted\")"
   ]
  },
  {
   "cell_type": "markdown",
   "metadata": {},
   "source": [
    "Update existing records in a table by using the \"UPDATE\" statement."
   ]
  },
  {
   "cell_type": "code",
   "execution_count": 26,
   "metadata": {},
   "outputs": [
    {
     "name": "stdout",
     "output_type": "stream",
     "text": [
      "1 record(s) affected\n"
     ]
    }
   ],
   "source": [
    "import mysql.connector\n",
    "\n",
    "\n",
    "db = mysql.connector.connect(\n",
    "    host=\"localhost\",\n",
    "    user=\"root\",\n",
    "    passwd=\"Bijionta7\",\n",
    "    database=\"belajarquery\"\n",
    ")\n",
    "\n",
    "mycursor = db.cursor()\n",
    "sql = \"UPDATE pelanggan SET address = %s WHERE address = %s\"\n",
    "val = (\"Alahan\", \"Arab\")\n",
    "\n",
    "mycursor.execute(sql, val)\n",
    "\n",
    "db.commit()\n",
    "\n",
    "print(mycursor.rowcount, \"record(s) affected\")"
   ]
  },
  {
   "cell_type": "markdown",
   "metadata": {},
   "source": [
    "Limit the number of records returned from the query, by using the \"LIMIT\" statement."
   ]
  },
  {
   "cell_type": "code",
   "execution_count": 27,
   "metadata": {},
   "outputs": [
    {
     "name": "stdout",
     "output_type": "stream",
     "text": [
      "(1, 'John', 'Does', 31, 'USA')\n",
      "(2, 'Robert', 'Luna', 22, 'USA')\n",
      "(3, 'David', 'Robinson', 22, 'UK')\n"
     ]
    }
   ],
   "source": [
    "import mysql.connector\n",
    "\n",
    "\n",
    "db = mysql.connector.connect(\n",
    "    host=\"localhost\",\n",
    "    user=\"root\",\n",
    "    passwd=\"Bijionta7\",\n",
    "    database=\"belajarquery\"\n",
    ")\n",
    "\n",
    "mycursor = db.cursor()\n",
    "mycursor.execute(\"SELECT * FROM customers LIMIT 3\")\n",
    "myresult = mycursor.fetchall()\n",
    "\n",
    "for x in myresult:\n",
    "  print(x)"
   ]
  }
 ],
 "metadata": {
  "kernelspec": {
   "display_name": "Python 3",
   "language": "python",
   "name": "python3"
  },
  "language_info": {
   "codemirror_mode": {
    "name": "ipython",
    "version": 3
   },
   "file_extension": ".py",
   "mimetype": "text/x-python",
   "name": "python",
   "nbconvert_exporter": "python",
   "pygments_lexer": "ipython3",
   "version": "3.11.4"
  }
 },
 "nbformat": 4,
 "nbformat_minor": 2
}
